{
  "nbformat": 4,
  "nbformat_minor": 0,
  "metadata": {
    "accelerator": "GPU",
    "colab": {
      "name": "Desafio_Phoebus_Aldenis.ipynb",
      "provenance": [],
      "collapsed_sections": [
        "FnOFFULn3DrR",
        "SWH_tv-K3J1P",
        "pL9dCAdfDYRA",
        "8SOruI-ADeKj",
        "toHBCiJXj6T6",
        "erE4xcsafWga",
        "jJ4ATFCihOAp",
        "XHzzR_qdhSMQ",
        "AK5aaoKliDFF",
        "o-OxtxG4iEe_",
        "NCBwZAdWiZr-",
        "9rtxogxVLBaw",
        "ih_oJhOsJl1k",
        "PR2lQQS9JkTq",
        "xIux_7OwJ1w_",
        "-k8P9AoTTsDu",
        "y77U2iKARTie",
        "vuTACMSWRWeD",
        "qVkNvVQWdz2I"
      ],
      "machine_shape": "hm"
    },
    "kernelspec": {
      "display_name": "Python 3",
      "name": "python3"
    },
    "language_info": {
      "name": "python"
    }
  },
  "cells": [
    {
      "cell_type": "markdown",
      "metadata": {
        "id": "UDrzv8M_C-RG"
      },
      "source": [
        "#Desafio - Engenharia de Dados - PHOEBUS\n",
        "\n",
        "###Candidato: Aldenis Everton Alves Guilherme de França"
      ]
    },
    {
      "cell_type": "markdown",
      "metadata": {
        "id": "FnOFFULn3DrR"
      },
      "source": [
        "##1.1 PROGRAMAÇÃO"
      ]
    },
    {
      "cell_type": "markdown",
      "metadata": {
        "id": "SWH_tv-K3J1P"
      },
      "source": [
        "####Implementar ordenação por BubbleSort"
      ]
    },
    {
      "cell_type": "code",
      "metadata": {
        "id": "vxWEiJ2_3A1M"
      },
      "source": [
        "def bubbleSort(array):\n",
        "  itens = len(array)-1\n",
        "  ordem = False\n",
        "  while not ordem:\n",
        "    ordem = True\n",
        "    for i in range(itens):\n",
        "      if array[i] > array[i+1]:\n",
        "        array[i],array[i+1] = array[i+1],array[i]\n",
        "        ordem = False\n",
        "        print(array)\n",
        "\n",
        "  return array"
      ],
      "execution_count": 333,
      "outputs": []
    },
    {
      "cell_type": "code",
      "metadata": {
        "colab": {
          "base_uri": "https://localhost:8080/"
        },
        "id": "4m35phtn3-aw",
        "outputId": "a1026ed8-29dc-4278-f645-ebf7f98b54df"
      },
      "source": [
        "array = [5, 9, 54, 12, 7, 5, 6, 1]\n",
        "bubbleSort(array)"
      ],
      "execution_count": 334,
      "outputs": [
        {
          "output_type": "stream",
          "name": "stdout",
          "text": [
            "[5, 9, 12, 54, 7, 5, 6, 1]\n",
            "[5, 9, 12, 7, 54, 5, 6, 1]\n",
            "[5, 9, 12, 7, 5, 54, 6, 1]\n",
            "[5, 9, 12, 7, 5, 6, 54, 1]\n",
            "[5, 9, 12, 7, 5, 6, 1, 54]\n",
            "[5, 9, 7, 12, 5, 6, 1, 54]\n",
            "[5, 9, 7, 5, 12, 6, 1, 54]\n",
            "[5, 9, 7, 5, 6, 12, 1, 54]\n",
            "[5, 9, 7, 5, 6, 1, 12, 54]\n",
            "[5, 7, 9, 5, 6, 1, 12, 54]\n",
            "[5, 7, 5, 9, 6, 1, 12, 54]\n",
            "[5, 7, 5, 6, 9, 1, 12, 54]\n",
            "[5, 7, 5, 6, 1, 9, 12, 54]\n",
            "[5, 5, 7, 6, 1, 9, 12, 54]\n",
            "[5, 5, 6, 7, 1, 9, 12, 54]\n",
            "[5, 5, 6, 1, 7, 9, 12, 54]\n",
            "[5, 5, 1, 6, 7, 9, 12, 54]\n",
            "[5, 1, 5, 6, 7, 9, 12, 54]\n",
            "[1, 5, 5, 6, 7, 9, 12, 54]\n"
          ]
        },
        {
          "output_type": "execute_result",
          "data": {
            "text/plain": [
              "[1, 5, 5, 6, 7, 9, 12, 54]"
            ]
          },
          "metadata": {},
          "execution_count": 334
        }
      ]
    },
    {
      "cell_type": "markdown",
      "metadata": {
        "id": "uJokddiueW4V"
      },
      "source": [
        "##2.1 INSTACART"
      ]
    },
    {
      "cell_type": "markdown",
      "metadata": {
        "id": "pL9dCAdfDYRA"
      },
      "source": [
        "###Importação de Bibliotecas"
      ]
    },
    {
      "cell_type": "code",
      "metadata": {
        "id": "dENffptn_aGd"
      },
      "source": [
        "# Bibliotecas para modelagem de dados\n",
        "import pandas as pd\n",
        "import numpy as np\n",
        "\n",
        "# Bibliotecas para análises gráficas\n",
        "import matplotlib.pyplot as plt"
      ],
      "execution_count": 335,
      "outputs": []
    },
    {
      "cell_type": "markdown",
      "metadata": {
        "id": "8SOruI-ADeKj"
      },
      "source": [
        "###Importação das Bases de Dados"
      ]
    },
    {
      "cell_type": "code",
      "metadata": {
        "id": "UoU0zpuXqkXR"
      },
      "source": [
        "# Leitura das bases de dados.\n",
        "\n",
        "path = 'order_products__train.csv'\n",
        "path2 = 'products.csv'\n",
        "\n",
        "df_vendas = pd.read_csv(path, sep=',', encoding='ISO-8859-1')\n",
        "df_prod = pd.read_csv(path2, sep=',', encoding='ISO-8859-1')"
      ],
      "execution_count": 336,
      "outputs": []
    },
    {
      "cell_type": "markdown",
      "metadata": {
        "id": "toHBCiJXj6T6"
      },
      "source": [
        "###Construção da Tabela Única"
      ]
    },
    {
      "cell_type": "code",
      "metadata": {
        "id": "b1LtWV-xjudE"
      },
      "source": [
        "# Integração dos dados das tabelas de vendas e produtos.\n",
        "\n",
        "df_completo = pd.merge(df_vendas, df_prod, how='left', on=['product_id'])"
      ],
      "execution_count": 337,
      "outputs": []
    },
    {
      "cell_type": "markdown",
      "metadata": {
        "id": "erE4xcsafWga"
      },
      "source": [
        "###Análise Exploratória dos Dados"
      ]
    },
    {
      "cell_type": "code",
      "metadata": {
        "colab": {
          "base_uri": "https://localhost:8080/",
          "height": 359
        },
        "id": "UV-GXYZUj5df",
        "outputId": "9241ec8c-8ac1-4ca8-e9b4-8b137f78b8b6"
      },
      "source": [
        "# Visualização parcial do dataset completo.\n",
        "\n",
        "df_completo.head(10)"
      ],
      "execution_count": 338,
      "outputs": [
        {
          "output_type": "execute_result",
          "data": {
            "text/html": [
              "<div>\n",
              "<style scoped>\n",
              "    .dataframe tbody tr th:only-of-type {\n",
              "        vertical-align: middle;\n",
              "    }\n",
              "\n",
              "    .dataframe tbody tr th {\n",
              "        vertical-align: top;\n",
              "    }\n",
              "\n",
              "    .dataframe thead th {\n",
              "        text-align: right;\n",
              "    }\n",
              "</style>\n",
              "<table border=\"1\" class=\"dataframe\">\n",
              "  <thead>\n",
              "    <tr style=\"text-align: right;\">\n",
              "      <th></th>\n",
              "      <th>order_id</th>\n",
              "      <th>product_id</th>\n",
              "      <th>add_to_cart_order</th>\n",
              "      <th>reordered</th>\n",
              "      <th>product_name</th>\n",
              "      <th>aisle_id</th>\n",
              "      <th>department_id</th>\n",
              "    </tr>\n",
              "  </thead>\n",
              "  <tbody>\n",
              "    <tr>\n",
              "      <th>0</th>\n",
              "      <td>1</td>\n",
              "      <td>49302</td>\n",
              "      <td>1</td>\n",
              "      <td>1</td>\n",
              "      <td>Bulgarian Yogurt</td>\n",
              "      <td>120</td>\n",
              "      <td>16</td>\n",
              "    </tr>\n",
              "    <tr>\n",
              "      <th>1</th>\n",
              "      <td>1</td>\n",
              "      <td>11109</td>\n",
              "      <td>2</td>\n",
              "      <td>1</td>\n",
              "      <td>Organic 4% Milk Fat Whole Milk Cottage Cheese</td>\n",
              "      <td>108</td>\n",
              "      <td>16</td>\n",
              "    </tr>\n",
              "    <tr>\n",
              "      <th>2</th>\n",
              "      <td>1</td>\n",
              "      <td>10246</td>\n",
              "      <td>3</td>\n",
              "      <td>0</td>\n",
              "      <td>Organic Celery Hearts</td>\n",
              "      <td>83</td>\n",
              "      <td>4</td>\n",
              "    </tr>\n",
              "    <tr>\n",
              "      <th>3</th>\n",
              "      <td>1</td>\n",
              "      <td>49683</td>\n",
              "      <td>4</td>\n",
              "      <td>0</td>\n",
              "      <td>Cucumber Kirby</td>\n",
              "      <td>83</td>\n",
              "      <td>4</td>\n",
              "    </tr>\n",
              "    <tr>\n",
              "      <th>4</th>\n",
              "      <td>1</td>\n",
              "      <td>43633</td>\n",
              "      <td>5</td>\n",
              "      <td>1</td>\n",
              "      <td>Lightly Smoked Sardines in Olive Oil</td>\n",
              "      <td>95</td>\n",
              "      <td>15</td>\n",
              "    </tr>\n",
              "    <tr>\n",
              "      <th>5</th>\n",
              "      <td>1</td>\n",
              "      <td>13176</td>\n",
              "      <td>6</td>\n",
              "      <td>0</td>\n",
              "      <td>Bag of Organic Bananas</td>\n",
              "      <td>24</td>\n",
              "      <td>4</td>\n",
              "    </tr>\n",
              "    <tr>\n",
              "      <th>6</th>\n",
              "      <td>1</td>\n",
              "      <td>47209</td>\n",
              "      <td>7</td>\n",
              "      <td>0</td>\n",
              "      <td>Organic Hass Avocado</td>\n",
              "      <td>24</td>\n",
              "      <td>4</td>\n",
              "    </tr>\n",
              "    <tr>\n",
              "      <th>7</th>\n",
              "      <td>1</td>\n",
              "      <td>22035</td>\n",
              "      <td>8</td>\n",
              "      <td>1</td>\n",
              "      <td>Organic Whole String Cheese</td>\n",
              "      <td>21</td>\n",
              "      <td>16</td>\n",
              "    </tr>\n",
              "    <tr>\n",
              "      <th>8</th>\n",
              "      <td>36</td>\n",
              "      <td>39612</td>\n",
              "      <td>1</td>\n",
              "      <td>0</td>\n",
              "      <td>Grated Pecorino Romano Cheese</td>\n",
              "      <td>2</td>\n",
              "      <td>16</td>\n",
              "    </tr>\n",
              "    <tr>\n",
              "      <th>9</th>\n",
              "      <td>36</td>\n",
              "      <td>19660</td>\n",
              "      <td>2</td>\n",
              "      <td>1</td>\n",
              "      <td>Spring Water</td>\n",
              "      <td>115</td>\n",
              "      <td>7</td>\n",
              "    </tr>\n",
              "  </tbody>\n",
              "</table>\n",
              "</div>"
            ],
            "text/plain": [
              "   order_id  product_id  ...  aisle_id  department_id\n",
              "0         1       49302  ...       120             16\n",
              "1         1       11109  ...       108             16\n",
              "2         1       10246  ...        83              4\n",
              "3         1       49683  ...        83              4\n",
              "4         1       43633  ...        95             15\n",
              "5         1       13176  ...        24              4\n",
              "6         1       47209  ...        24              4\n",
              "7         1       22035  ...        21             16\n",
              "8        36       39612  ...         2             16\n",
              "9        36       19660  ...       115              7\n",
              "\n",
              "[10 rows x 7 columns]"
            ]
          },
          "metadata": {},
          "execution_count": 338
        }
      ]
    },
    {
      "cell_type": "code",
      "metadata": {
        "colab": {
          "base_uri": "https://localhost:8080/"
        },
        "id": "sTKA-Le-mCmP",
        "outputId": "08beb527-fb77-49b4-9837-af8764c21adf"
      },
      "source": [
        "# Relação dos 10 produtos mais vendidos.\n",
        "\n",
        "df_completo.groupby('product_name').size().nlargest(10)"
      ],
      "execution_count": 339,
      "outputs": [
        {
          "output_type": "execute_result",
          "data": {
            "text/plain": [
              "product_name\n",
              "Banana                    18726\n",
              "Bag of Organic Bananas    15480\n",
              "Organic Strawberries      10894\n",
              "Organic Baby Spinach       9784\n",
              "Large Lemon                8135\n",
              "Organic Avocado            7409\n",
              "Organic Hass Avocado       7293\n",
              "Strawberries               6494\n",
              "Limes                      6033\n",
              "Organic Raspberries        5546\n",
              "dtype: int64"
            ]
          },
          "metadata": {},
          "execution_count": 339
        }
      ]
    },
    {
      "cell_type": "code",
      "metadata": {
        "colab": {
          "base_uri": "https://localhost:8080/",
          "height": 732
        },
        "id": "WMRx8bt2K0HB",
        "outputId": "b88c5594-a941-46c0-c406-8572d7846910"
      },
      "source": [
        "# Visualização Gráfica dos 10 produtos mais vendidos (Gráfico de Barras).\n",
        "\n",
        "dez_maiores_bar = df_completo.groupby('product_name').size().nlargest(10).plot(kind='bar',xlabel='Nome do Produto',ylabel='Quantidade de Vendas',\n",
        "                                                                           title='Os 10 Produtos Mais Vendidos pelo Nome do Produto',figsize=(13,10),color='b')\n"
      ],
      "execution_count": 340,
      "outputs": [
        {
          "output_type": "display_data",
          "data": {
            "image/png": "[encoded data removed]",
            "text/plain": [
              "<Figure size 936x720 with 1 Axes>"
            ]
          },
          "metadata": {
            "needs_background": "light"
          }
        }
      ]
    },
    {
      "cell_type": "code",
      "metadata": {
        "colab": {
          "base_uri": "https://localhost:8080/",
          "height": 591
        },
        "id": "UhZD6ZNfpqei",
        "outputId": "8aff4abb-fd46-42ba-e43b-8c61196fa1fb"
      },
      "source": [
        "# Visualização Gráfica dos 10 produtos mais vendidos (Gráfico de Pizza).\n",
        "\n",
        "dez_maiores_pie = df_completo.groupby('product_name').size().nlargest(10).plot(kind='pie',title='Os 10 Produtos Mais Vendidos pelo Nome do Produto',figsize=(13,10))\n"
      ],
      "execution_count": 341,
      "outputs": [
        {
          "output_type": "display_data",
          "data": {
            "image/png": "[encoded data removed]",
            "text/plain": [
              "<Figure size 936x720 with 1 Axes>"
            ]
          },
          "metadata": {}
        }
      ]
    },
    {
      "cell_type": "code",
      "metadata": {
        "colab": {
          "base_uri": "https://localhost:8080/"
        },
        "id": "E3xekXzp-Tqq",
        "outputId": "730f39b5-e713-4e13-f52b-9997407eb179"
      },
      "source": [
        "# Cálculo da Média dos Produtos por compra.\n",
        "\n",
        "print('Média de Produtos x Compra:')\n",
        "med_prod_comp = df_completo.groupby('order_id')['product_id'].size().mean()\n",
        "print(f'\\n{med_prod_comp}')"
      ],
      "execution_count": 342,
      "outputs": [
        {
          "output_type": "stream",
          "name": "stdout",
          "text": [
            "Média de Produtos x Compra:\n",
            "\n",
            "10.552759338155157\n"
          ]
        }
      ]
    },
    {
      "cell_type": "markdown",
      "metadata": {
        "id": "sVNaSRnkefNV"
      },
      "source": [
        "##2.2 TITANIC"
      ]
    },
    {
      "cell_type": "markdown",
      "metadata": {
        "id": "jJ4ATFCihOAp"
      },
      "source": [
        "###Importação de Bibliotecas"
      ]
    },
    {
      "cell_type": "code",
      "metadata": {
        "id": "tIMUX8sGhO8f"
      },
      "source": [
        "# Bibliotecas para modelagem de dados\n",
        "import pandas as pd\n",
        "import numpy as np\n",
        "\n",
        "# Bibliotecas para análises gráficas\n",
        "import matplotlib.pyplot as plt\n",
        "import seaborn as sns\n",
        "\n",
        "# Bibliotecas/classes para tratamento dos dados categóricos\n",
        "from sklearn.preprocessing import LabelEncoder\n",
        "from sklearn.preprocessing import OneHotEncoder\n",
        "\n",
        "# Bibliotecas/classes para normalização dos dados\n",
        "from sklearn.preprocessing import MinMaxScaler\n",
        "from sklearn.preprocessing import Normalizer\n",
        "from sklearn.preprocessing import StandardScaler\n",
        "from sklearn.preprocessing import RobustScaler\n",
        "\n",
        "# Bibliotecas/classes para divisão de treino e teste\n",
        "from sklearn.model_selection import train_test_split\n",
        "\n",
        "# Bibliotecas/classes para os modelos\n",
        "from sklearn import tree\n",
        "from sklearn import model_selection\n",
        "from sklearn.metrics import classification_report\n",
        "from sklearn.ensemble import RandomForestClassifier"
      ],
      "execution_count": 343,
      "outputs": []
    },
    {
      "cell_type": "markdown",
      "metadata": {
        "id": "XHzzR_qdhSMQ"
      },
      "source": [
        "###Importação da Base de Dados"
      ]
    },
    {
      "cell_type": "code",
      "metadata": {
        "id": "_NCAYpGahV12"
      },
      "source": [
        "# Leitura das bases de dados.\n",
        "\n",
        "data = 'train.csv'\n",
        "df_train = pd.read_csv(data, sep=',', encoding='ISO-8859-1')"
      ],
      "execution_count": 344,
      "outputs": []
    },
    {
      "cell_type": "markdown",
      "metadata": {
        "id": "snqylLEOhbsa"
      },
      "source": [
        "###Análise Exploratória dos Dados"
      ]
    },
    {
      "cell_type": "markdown",
      "metadata": {
        "id": "AK5aaoKliDFF"
      },
      "source": [
        "#####Dimensão dos Dados"
      ]
    },
    {
      "cell_type": "code",
      "metadata": {
        "colab": {
          "base_uri": "https://localhost:8080/"
        },
        "id": "asFYUyuEhavi",
        "outputId": "aff7da01-53d1-4172-d255-972f259884f4"
      },
      "source": [
        "# Especificação do número de linhas e colunas da base de dados.\n",
        "\n",
        "print(f'QUANTIDADE DE LINHAS: {df_train.shape[0]}\\n')\n",
        "print(f'QUANTIDADE DE COLUNAS: {df_train.shape[1]}')"
      ],
      "execution_count": 345,
      "outputs": [
        {
          "output_type": "stream",
          "name": "stdout",
          "text": [
            "QUANTIDADE DE LINHAS: 891\n",
            "\n",
            "QUANTIDADE DE COLUNAS: 12\n"
          ]
        }
      ]
    },
    {
      "cell_type": "markdown",
      "metadata": {
        "id": "o-OxtxG4iEe_"
      },
      "source": [
        "#####Apresentação dos Dados"
      ]
    },
    {
      "cell_type": "code",
      "metadata": {
        "colab": {
          "base_uri": "https://localhost:8080/",
          "height": 204
        },
        "id": "c6xhMdB7iBcI",
        "outputId": "ea838e28-a049-4ac1-c9f1-c225ac2f1699"
      },
      "source": [
        "# Visualização parcial da base de dados.\n",
        "\n",
        "df_train.head()"
      ],
      "execution_count": 346,
      "outputs": [
        {
          "output_type": "execute_result",
          "data": {
            "text/html": [
              "<div>\n",
              "<style scoped>\n",
              "    .dataframe tbody tr th:only-of-type {\n",
              "        vertical-align: middle;\n",
              "    }\n",
              "\n",
              "    .dataframe tbody tr th {\n",
              "        vertical-align: top;\n",
              "    }\n",
              "\n",
              "    .dataframe thead th {\n",
              "        text-align: right;\n",
              "    }\n",
              "</style>\n",
              "<table border=\"1\" class=\"dataframe\">\n",
              "  <thead>\n",
              "    <tr style=\"text-align: right;\">\n",
              "      <th></th>\n",
              "      <th>PassengerId</th>\n",
              "      <th>Survived</th>\n",
              "      <th>Pclass</th>\n",
              "      <th>Name</th>\n",
              "      <th>Sex</th>\n",
              "      <th>Age</th>\n",
              "      <th>SibSp</th>\n",
              "      <th>Parch</th>\n",
              "      <th>Ticket</th>\n",
              "      <th>Fare</th>\n",
              "      <th>Cabin</th>\n",
              "      <th>Embarked</th>\n",
              "    </tr>\n",
              "  </thead>\n",
              "  <tbody>\n",
              "    <tr>\n",
              "      <th>0</th>\n",
              "      <td>1</td>\n",
              "      <td>0</td>\n",
              "      <td>3</td>\n",
              "      <td>Braund, Mr. Owen Harris</td>\n",
              "      <td>male</td>\n",
              "      <td>22.0</td>\n",
              "      <td>1</td>\n",
              "      <td>0</td>\n",
              "      <td>A/5 21171</td>\n",
              "      <td>7.2500</td>\n",
              "      <td>NaN</td>\n",
              "      <td>S</td>\n",
              "    </tr>\n",
              "    <tr>\n",
              "      <th>1</th>\n",
              "      <td>2</td>\n",
              "      <td>1</td>\n",
              "      <td>1</td>\n",
              "      <td>Cumings, Mrs. John Bradley (Florence Briggs Th...</td>\n",
              "      <td>female</td>\n",
              "      <td>38.0</td>\n",
              "      <td>1</td>\n",
              "      <td>0</td>\n",
              "      <td>PC 17599</td>\n",
              "      <td>71.2833</td>\n",
              "      <td>C85</td>\n",
              "      <td>C</td>\n",
              "    </tr>\n",
              "    <tr>\n",
              "      <th>2</th>\n",
              "      <td>3</td>\n",
              "      <td>1</td>\n",
              "      <td>3</td>\n",
              "      <td>Heikkinen, Miss. Laina</td>\n",
              "      <td>female</td>\n",
              "      <td>26.0</td>\n",
              "      <td>0</td>\n",
              "      <td>0</td>\n",
              "      <td>STON/O2. 3101282</td>\n",
              "      <td>7.9250</td>\n",
              "      <td>NaN</td>\n",
              "      <td>S</td>\n",
              "    </tr>\n",
              "    <tr>\n",
              "      <th>3</th>\n",
              "      <td>4</td>\n",
              "      <td>1</td>\n",
              "      <td>1</td>\n",
              "      <td>Futrelle, Mrs. Jacques Heath (Lily May Peel)</td>\n",
              "      <td>female</td>\n",
              "      <td>35.0</td>\n",
              "      <td>1</td>\n",
              "      <td>0</td>\n",
              "      <td>113803</td>\n",
              "      <td>53.1000</td>\n",
              "      <td>C123</td>\n",
              "      <td>S</td>\n",
              "    </tr>\n",
              "    <tr>\n",
              "      <th>4</th>\n",
              "      <td>5</td>\n",
              "      <td>0</td>\n",
              "      <td>3</td>\n",
              "      <td>Allen, Mr. William Henry</td>\n",
              "      <td>male</td>\n",
              "      <td>35.0</td>\n",
              "      <td>0</td>\n",
              "      <td>0</td>\n",
              "      <td>373450</td>\n",
              "      <td>8.0500</td>\n",
              "      <td>NaN</td>\n",
              "      <td>S</td>\n",
              "    </tr>\n",
              "  </tbody>\n",
              "</table>\n",
              "</div>"
            ],
            "text/plain": [
              "   PassengerId  Survived  Pclass  ...     Fare Cabin  Embarked\n",
              "0            1         0       3  ...   7.2500   NaN         S\n",
              "1            2         1       1  ...  71.2833   C85         C\n",
              "2            3         1       3  ...   7.9250   NaN         S\n",
              "3            4         1       1  ...  53.1000  C123         S\n",
              "4            5         0       3  ...   8.0500   NaN         S\n",
              "\n",
              "[5 rows x 12 columns]"
            ]
          },
          "metadata": {},
          "execution_count": 346
        }
      ]
    },
    {
      "cell_type": "code",
      "metadata": {
        "colab": {
          "base_uri": "https://localhost:8080/"
        },
        "id": "S_8gL3ipiRi5",
        "outputId": "cef23fb2-31fc-44a3-f2f7-c6ec6c9fc090"
      },
      "source": [
        "# Nomes das colunas da base de dados.\n",
        "\n",
        "df_train.columns"
      ],
      "execution_count": 347,
      "outputs": [
        {
          "output_type": "execute_result",
          "data": {
            "text/plain": [
              "Index(['PassengerId', 'Survived', 'Pclass', 'Name', 'Sex', 'Age', 'SibSp',\n",
              "       'Parch', 'Ticket', 'Fare', 'Cabin', 'Embarked'],\n",
              "      dtype='object')"
            ]
          },
          "metadata": {},
          "execution_count": 347
        }
      ]
    },
    {
      "cell_type": "markdown",
      "metadata": {
        "id": "NCBwZAdWiZr-"
      },
      "source": [
        "#####Informações Estatísticas dos Dados"
      ]
    },
    {
      "cell_type": "code",
      "metadata": {
        "colab": {
          "base_uri": "https://localhost:8080/",
          "height": 297
        },
        "id": "I04AjKCKirAb",
        "outputId": "e70eee8c-ef6f-4e97-fbad-1151980ba702"
      },
      "source": [
        "# Métricas estatísticas da base de dados.\n",
        "\n",
        "df_train.describe()"
      ],
      "execution_count": 348,
      "outputs": [
        {
          "output_type": "execute_result",
          "data": {
            "text/html": [
              "<div>\n",
              "<style scoped>\n",
              "    .dataframe tbody tr th:only-of-type {\n",
              "        vertical-align: middle;\n",
              "    }\n",
              "\n",
              "    .dataframe tbody tr th {\n",
              "        vertical-align: top;\n",
              "    }\n",
              "\n",
              "    .dataframe thead th {\n",
              "        text-align: right;\n",
              "    }\n",
              "</style>\n",
              "<table border=\"1\" class=\"dataframe\">\n",
              "  <thead>\n",
              "    <tr style=\"text-align: right;\">\n",
              "      <th></th>\n",
              "      <th>PassengerId</th>\n",
              "      <th>Survived</th>\n",
              "      <th>Pclass</th>\n",
              "      <th>Age</th>\n",
              "      <th>SibSp</th>\n",
              "      <th>Parch</th>\n",
              "      <th>Fare</th>\n",
              "    </tr>\n",
              "  </thead>\n",
              "  <tbody>\n",
              "    <tr>\n",
              "      <th>count</th>\n",
              "      <td>891.000000</td>\n",
              "      <td>891.000000</td>\n",
              "      <td>891.000000</td>\n",
              "      <td>714.000000</td>\n",
              "      <td>891.000000</td>\n",
              "      <td>891.000000</td>\n",
              "      <td>891.000000</td>\n",
              "    </tr>\n",
              "    <tr>\n",
              "      <th>mean</th>\n",
              "      <td>446.000000</td>\n",
              "      <td>0.383838</td>\n",
              "      <td>2.308642</td>\n",
              "      <td>29.699118</td>\n",
              "      <td>0.523008</td>\n",
              "      <td>0.381594</td>\n",
              "      <td>32.204208</td>\n",
              "    </tr>\n",
              "    <tr>\n",
              "      <th>std</th>\n",
              "      <td>257.353842</td>\n",
              "      <td>0.486592</td>\n",
              "      <td>0.836071</td>\n",
              "      <td>14.526497</td>\n",
              "      <td>1.102743</td>\n",
              "      <td>0.806057</td>\n",
              "      <td>49.693429</td>\n",
              "    </tr>\n",
              "    <tr>\n",
              "      <th>min</th>\n",
              "      <td>1.000000</td>\n",
              "      <td>0.000000</td>\n",
              "      <td>1.000000</td>\n",
              "      <td>0.420000</td>\n",
              "      <td>0.000000</td>\n",
              "      <td>0.000000</td>\n",
              "      <td>0.000000</td>\n",
              "    </tr>\n",
              "    <tr>\n",
              "      <th>25%</th>\n",
              "      <td>223.500000</td>\n",
              "      <td>0.000000</td>\n",
              "      <td>2.000000</td>\n",
              "      <td>20.125000</td>\n",
              "      <td>0.000000</td>\n",
              "      <td>0.000000</td>\n",
              "      <td>7.910400</td>\n",
              "    </tr>\n",
              "    <tr>\n",
              "      <th>50%</th>\n",
              "      <td>446.000000</td>\n",
              "      <td>0.000000</td>\n",
              "      <td>3.000000</td>\n",
              "      <td>28.000000</td>\n",
              "      <td>0.000000</td>\n",
              "      <td>0.000000</td>\n",
              "      <td>14.454200</td>\n",
              "    </tr>\n",
              "    <tr>\n",
              "      <th>75%</th>\n",
              "      <td>668.500000</td>\n",
              "      <td>1.000000</td>\n",
              "      <td>3.000000</td>\n",
              "      <td>38.000000</td>\n",
              "      <td>1.000000</td>\n",
              "      <td>0.000000</td>\n",
              "      <td>31.000000</td>\n",
              "    </tr>\n",
              "    <tr>\n",
              "      <th>max</th>\n",
              "      <td>891.000000</td>\n",
              "      <td>1.000000</td>\n",
              "      <td>3.000000</td>\n",
              "      <td>80.000000</td>\n",
              "      <td>8.000000</td>\n",
              "      <td>6.000000</td>\n",
              "      <td>512.329200</td>\n",
              "    </tr>\n",
              "  </tbody>\n",
              "</table>\n",
              "</div>"
            ],
            "text/plain": [
              "       PassengerId    Survived      Pclass  ...       SibSp       Parch        Fare\n",
              "count   891.000000  891.000000  891.000000  ...  891.000000  891.000000  891.000000\n",
              "mean    446.000000    0.383838    2.308642  ...    0.523008    0.381594   32.204208\n",
              "std     257.353842    0.486592    0.836071  ...    1.102743    0.806057   49.693429\n",
              "min       1.000000    0.000000    1.000000  ...    0.000000    0.000000    0.000000\n",
              "25%     223.500000    0.000000    2.000000  ...    0.000000    0.000000    7.910400\n",
              "50%     446.000000    0.000000    3.000000  ...    0.000000    0.000000   14.454200\n",
              "75%     668.500000    1.000000    3.000000  ...    1.000000    0.000000   31.000000\n",
              "max     891.000000    1.000000    3.000000  ...    8.000000    6.000000  512.329200\n",
              "\n",
              "[8 rows x 7 columns]"
            ]
          },
          "metadata": {},
          "execution_count": 348
        }
      ]
    },
    {
      "cell_type": "code",
      "metadata": {
        "colab": {
          "base_uri": "https://localhost:8080/"
        },
        "id": "u_efYH8Giz1Z",
        "outputId": "96063601-842f-4157-a058-d89b22b4448b"
      },
      "source": [
        "# Quantidade de dados nulos em cada coluna da base de dados.\n",
        "\n",
        "df_train.isnull().sum()"
      ],
      "execution_count": 349,
      "outputs": [
        {
          "output_type": "execute_result",
          "data": {
            "text/plain": [
              "PassengerId      0\n",
              "Survived         0\n",
              "Pclass           0\n",
              "Name             0\n",
              "Sex              0\n",
              "Age            177\n",
              "SibSp            0\n",
              "Parch            0\n",
              "Ticket           0\n",
              "Fare             0\n",
              "Cabin          687\n",
              "Embarked         2\n",
              "dtype: int64"
            ]
          },
          "metadata": {},
          "execution_count": 349
        }
      ]
    },
    {
      "cell_type": "code",
      "metadata": {
        "colab": {
          "base_uri": "https://localhost:8080/"
        },
        "id": "iQdAas36i7uB",
        "outputId": "960a9e48-1db5-490b-b897-bf1cc7ad7ba1"
      },
      "source": [
        "# Tipos de variáveis de cada coluna da base de dados.\n",
        "\n",
        "df_train.info()"
      ],
      "execution_count": 350,
      "outputs": [
        {
          "output_type": "stream",
          "name": "stdout",
          "text": [
            "<class 'pandas.core.frame.DataFrame'>\n",
            "RangeIndex: 891 entries, 0 to 890\n",
            "Data columns (total 12 columns):\n",
            " #   Column       Non-Null Count  Dtype  \n",
            "---  ------       --------------  -----  \n",
            " 0   PassengerId  891 non-null    int64  \n",
            " 1   Survived     891 non-null    int64  \n",
            " 2   Pclass       891 non-null    int64  \n",
            " 3   Name         891 non-null    object \n",
            " 4   Sex          891 non-null    object \n",
            " 5   Age          714 non-null    float64\n",
            " 6   SibSp        891 non-null    int64  \n",
            " 7   Parch        891 non-null    int64  \n",
            " 8   Ticket       891 non-null    object \n",
            " 9   Fare         891 non-null    float64\n",
            " 10  Cabin        204 non-null    object \n",
            " 11  Embarked     889 non-null    object \n",
            "dtypes: float64(2), int64(5), object(5)\n",
            "memory usage: 83.7+ KB\n"
          ]
        }
      ]
    },
    {
      "cell_type": "code",
      "metadata": {
        "colab": {
          "base_uri": "https://localhost:8080/"
        },
        "id": "AlXfW-BdjGkZ",
        "outputId": "17eb2137-3f04-48e1-d19b-dd76152d9a27"
      },
      "source": [
        "# Agrupamento de Dados por classes.\n",
        "\n",
        "print(\"AGRUPAMENTO de alguns dados por classes:\\n\")\n",
        "\n",
        "print('Média de Classe por Sexo:')\n",
        "sex_class = df_train.groupby('Sex')['Pclass'].mean()\n",
        "print(sex_class)\n",
        "print('')\n",
        "\n",
        "print(df_train.groupby('Survived').size())\n",
        "print('')\n",
        "\n",
        "print(df_train.groupby('Cabin').size())\n",
        "print('')"
      ],
      "execution_count": 351,
      "outputs": [
        {
          "output_type": "stream",
          "name": "stdout",
          "text": [
            "AGRUPAMENTO de alguns dados por classes:\n",
            "\n",
            "Média de Classe por Sexo:\n",
            "Sex\n",
            "female    2.159236\n",
            "male      2.389948\n",
            "Name: Pclass, dtype: float64\n",
            "\n",
            "Survived\n",
            "0    549\n",
            "1    342\n",
            "dtype: int64\n",
            "\n",
            "Cabin\n",
            "A10    1\n",
            "A14    1\n",
            "A16    1\n",
            "A19    1\n",
            "A20    1\n",
            "      ..\n",
            "F33    3\n",
            "F38    1\n",
            "F4     2\n",
            "G6     4\n",
            "T      1\n",
            "Length: 147, dtype: int64\n",
            "\n"
          ]
        }
      ]
    },
    {
      "cell_type": "code",
      "metadata": {
        "colab": {
          "base_uri": "https://localhost:8080/",
          "height": 1000
        },
        "id": "n1taM5QsvcDD",
        "outputId": "7c92d858-01ef-474c-8377-164f2bc2165e"
      },
      "source": [
        "#Construção dos gráficos boxplot de cada classe numérica.\n",
        "\n",
        "for nome_col in df_train.columns:\n",
        "  if df_train[nome_col].dtype != object:\n",
        "    df_train[nome_col].plot(kind='box', subplots=True, layout=(4,4), sharex=False, sharey=False, figsize=(18,18))\n",
        "    plt.show()"
      ],
      "execution_count": 352,
      "outputs": [
        {
          "output_type": "display_data",
          "data": {
            "image/png": "[encoded data removed]",
            "text/plain": [
              "<Figure size 1296x1296 with 16 Axes>"
            ]
          },
          "metadata": {
            "needs_background": "light"
          }
        },
        {
          "output_type": "display_data",
          "data": {
            "image/png": "[encoded data removed]",
            "text/plain": [
              "<Figure size 1296x1296 with 16 Axes>"
            ]
          },
          "metadata": {
            "needs_background": "light"
          }
        },
        {
          "output_type": "display_data",
          "data": {
            "image/png": "[encoded data removed]",
            "text/plain": [
              "<Figure size 1296x1296 with 16 Axes>"
            ]
          },
          "metadata": {
            "needs_background": "light"
          }
        },
        {
          "output_type": "display_data",
          "data": {
            "image/png": "[encoded data removed]",
            "text/plain": [
              "<Figure size 1296x1296 with 16 Axes>"
            ]
          },
          "metadata": {
            "needs_background": "light"
          }
        },
        {
          "output_type": "display_data",
          "data": {
            "image/png": "[encoded data removed]",
            "text/plain": [
              "<Figure size 1296x1296 with 16 Axes>"
            ]
          },
          "metadata": {
            "needs_background": "light"
          }
        },
        {
          "output_type": "display_data",
          "data": {
            "image/png": "[encoded data removed]",
            "text/plain": [
              "<Figure size 1296x1296 with 16 Axes>"
            ]
          },
          "metadata": {
            "needs_background": "light"
          }
        },
        {
          "output_type": "display_data",
          "data": {
            "image/png": "[encoded data removed]",
            "text/plain": [
              "<Figure size 1296x1296 with 16 Axes>"
            ]
          },
          "metadata": {
            "needs_background": "light"
          }
        }
      ]
    },
    {
      "cell_type": "code",
      "metadata": {
        "colab": {
          "base_uri": "https://localhost:8080/",
          "height": 913
        },
        "id": "Kjeqzgp-xDz4",
        "outputId": "e304ea4d-2892-4633-8c43-d8eb61867d88"
      },
      "source": [
        "print(\"HISTOGRAMAS dos dados de cada classe:\\n\")\n",
        "\n",
        "df_train.hist(layout=(3,3),figsize=(15,15))\n",
        "plt.savefig('histogramas.jpg',dpi=200)"
      ],
      "execution_count": 353,
      "outputs": [
        {
          "output_type": "stream",
          "name": "stdout",
          "text": [
            "HISTOGRAMAS dos dados de cada classe:\n",
            "\n"
          ]
        },
        {
          "output_type": "display_data",
          "data": {
            "image/png": "[encoded data removed]",
            "text/plain": [
              "<Figure size 1080x1080 with 9 Axes>"
            ]
          },
          "metadata": {
            "needs_background": "light"
          }
        }
      ]
    },
    {
      "cell_type": "code",
      "metadata": {
        "colab": {
          "base_uri": "https://localhost:8080/",
          "height": 630
        },
        "id": "ONWn5KVb7q4-",
        "outputId": "4874ac5b-929e-487f-9804-4fa9cc48847a"
      },
      "source": [
        "#Construção da matriz de correlação entre as classes do df_train.\n",
        "\n",
        "print('Matriz de Correlação - HEATMAP das Variáveis:\\n')\n",
        "plt.figure(figsize=(10,10))\n",
        "ax = sns.heatmap(df_train.corr(), cmap='Blues', annot=True)\n",
        "plt.savefig('heatmap_df.jpg',dpi=200)"
      ],
      "execution_count": 354,
      "outputs": [
        {
          "output_type": "stream",
          "name": "stdout",
          "text": [
            "Matriz de Correlação - HEATMAP das Variáveis:\n",
            "\n"
          ]
        },
        {
          "output_type": "display_data",
          "data": {
            "image/png": "[encoded data removed]",
            "text/plain": [
              "<Figure size 720x720 with 2 Axes>"
            ]
          },
          "metadata": {
            "needs_background": "light"
          }
        }
      ]
    },
    {
      "cell_type": "markdown",
      "metadata": {
        "id": "CvD9KpYz9c12"
      },
      "source": [
        "###Pré-processamento dos Dados"
      ]
    },
    {
      "cell_type": "markdown",
      "metadata": {
        "id": "9rtxogxVLBaw"
      },
      "source": [
        "#####Remoção de colunas"
      ]
    },
    {
      "cell_type": "code",
      "metadata": {
        "id": "Moc2uTc7KrmW"
      },
      "source": [
        "# Remoção das colunas Survived, Name e PassengerId.\n",
        "\n",
        "y = df_train.Survived\n",
        "w = df_train.PassengerId\n",
        "k = df_train.Name\n",
        "df_train.drop(['Survived','Name','PassengerId'], axis=1, inplace=True)"
      ],
      "execution_count": 355,
      "outputs": []
    },
    {
      "cell_type": "markdown",
      "metadata": {
        "id": "ih_oJhOsJl1k"
      },
      "source": [
        "#####Tratamento dos Dados Nulos"
      ]
    },
    {
      "cell_type": "code",
      "metadata": {
        "id": "4g7QAwNF_6Qu"
      },
      "source": [
        "# Substituindo os valores nulos pela mediana ou por -1 (não informado).\n",
        "\n",
        "col_null = [['Age'],['Cabin','Embarked']]\n",
        "\n",
        "for i in range(0,len(col_null)):\n",
        "  for col in col_null[i]:\n",
        "    if i == 0:\n",
        "      df_train[col].fillna(df_train[col].median(),inplace=True)\n",
        "    elif i == 1:\n",
        "      df_train[col].fillna(-1,inplace=True)"
      ],
      "execution_count": 356,
      "outputs": []
    },
    {
      "cell_type": "code",
      "metadata": {
        "colab": {
          "base_uri": "https://localhost:8080/"
        },
        "id": "z1tWqKLLBPl9",
        "outputId": "0e0e62d1-e163-46a9-9243-5fbcfa57675e"
      },
      "source": [
        "# Quantidade de dados nulos após o tratamento em cada coluna da base de dados.\n",
        "\n",
        "df_train.isnull().sum()"
      ],
      "execution_count": 357,
      "outputs": [
        {
          "output_type": "execute_result",
          "data": {
            "text/plain": [
              "Pclass      0\n",
              "Sex         0\n",
              "Age         0\n",
              "SibSp       0\n",
              "Parch       0\n",
              "Ticket      0\n",
              "Fare        0\n",
              "Cabin       0\n",
              "Embarked    0\n",
              "dtype: int64"
            ]
          },
          "metadata": {},
          "execution_count": 357
        }
      ]
    },
    {
      "cell_type": "markdown",
      "metadata": {
        "id": "PR2lQQS9JkTq"
      },
      "source": [
        "#####Conversão dos Dados Categóricos em Numéricos"
      ]
    },
    {
      "cell_type": "code",
      "metadata": {
        "id": "I4JyNakBBwkZ"
      },
      "source": [
        "# Conversão dos dados das colunas object em strings.\n",
        "\n",
        "df_train['Sex'] = df_train['Sex'].astype(str)\n",
        "df_train['Ticket'] = df_train['Ticket'].astype(str)\n",
        "df_train['Cabin'] = df_train['Cabin'].astype(str)\n",
        "df_train['Embarked'] = df_train['Embarked'].astype(str)"
      ],
      "execution_count": 358,
      "outputs": []
    },
    {
      "cell_type": "code",
      "metadata": {
        "id": "NqwxEEBN8kI2"
      },
      "source": [
        "# Aplicação da classe LabelEncoder às colunas categóricas\n",
        "# para convertê-las em numéricas.\n",
        "\n",
        "le = LabelEncoder()\n",
        "for col in df_train.columns:\n",
        "  if df_train[col].dtype == object:\n",
        "    df_train[col] = le.fit_transform(df_train[col])\n",
        "  else:\n",
        "    pass"
      ],
      "execution_count": 359,
      "outputs": []
    },
    {
      "cell_type": "code",
      "metadata": {
        "id": "FfVkCyU--Ll-"
      },
      "source": [
        "# Aplicação da classe One-Hot-Encoder às classes Pclass, Sex e Embarked.\n",
        "\n",
        "onehotencoder = OneHotEncoder()\n",
        "K = onehotencoder.fit_transform(df_train.Pclass.values.reshape(-1,1)).toarray()\n",
        "W = onehotencoder.fit_transform(df_train.Sex.values.reshape(-1,1)).toarray()\n",
        "Z = onehotencoder.fit_transform(df_train.Embarked.values.reshape(-1,1)).toarray()"
      ],
      "execution_count": 360,
      "outputs": []
    },
    {
      "cell_type": "code",
      "metadata": {
        "colab": {
          "base_uri": "https://localhost:8080/",
          "height": 221
        },
        "id": "-zfb-En9EJlF",
        "outputId": "dbba0a98-d1fb-4d3b-a559-b481c8bef5e8"
      },
      "source": [
        "# Conversão dos arrays K, W e Z OneHot para um Dataframe cada e adição das colunas desses \n",
        "# Dataframes (dfOneHot1, dfOneHot2 e dfOneHot3) ao nosso df_train.\n",
        "\n",
        "dfOneHot1 = pd.DataFrame(K, columns= ['Class_'+str(int(i)) for i in range(K.shape[1])])\n",
        "dfOneHot2 = pd.DataFrame(W, columns= ['Sex_'+str(int(i)) for i in range(W.shape[1])])\n",
        "dfOneHot3 = pd.DataFrame(Z, columns= ['Embarked_'+str(int(i)) for i in range(Z.shape[1])])\n",
        "\n",
        "df_train['Class_1'] = dfOneHot1['Class_0']\n",
        "df_train['Class_2'] = dfOneHot1['Class_1']\n",
        "df_train['Class_3'] = dfOneHot1['Class_2']\n",
        "\n",
        "df_train['SEX_F'] = dfOneHot2['Sex_0']\n",
        "df_train['SEX_M'] = dfOneHot2['Sex_1']\n",
        "\n",
        "df_train['Embarked_C'] = dfOneHot3['Embarked_1']\n",
        "df_train['Embarked_Q'] = dfOneHot3['Embarked_2']\n",
        "df_train['Embarked_S'] = dfOneHot3['Embarked_3']\n",
        "df_train['Embarked_NAO_INFOR'] = dfOneHot3['Embarked_0']\n",
        "\n",
        "df_train.drop(['Pclass','Sex','Embarked'], axis=1, inplace=True)\n",
        "\n",
        "print(df_train.shape)\n",
        "df_train.head()"
      ],
      "execution_count": 361,
      "outputs": [
        {
          "output_type": "stream",
          "name": "stdout",
          "text": [
            "(891, 15)\n"
          ]
        },
        {
          "output_type": "execute_result",
          "data": {
            "text/html": [
              "<div>\n",
              "<style scoped>\n",
              "    .dataframe tbody tr th:only-of-type {\n",
              "        vertical-align: middle;\n",
              "    }\n",
              "\n",
              "    .dataframe tbody tr th {\n",
              "        vertical-align: top;\n",
              "    }\n",
              "\n",
              "    .dataframe thead th {\n",
              "        text-align: right;\n",
              "    }\n",
              "</style>\n",
              "<table border=\"1\" class=\"dataframe\">\n",
              "  <thead>\n",
              "    <tr style=\"text-align: right;\">\n",
              "      <th></th>\n",
              "      <th>Age</th>\n",
              "      <th>SibSp</th>\n",
              "      <th>Parch</th>\n",
              "      <th>Ticket</th>\n",
              "      <th>Fare</th>\n",
              "      <th>Cabin</th>\n",
              "      <th>Class_1</th>\n",
              "      <th>Class_2</th>\n",
              "      <th>Class_3</th>\n",
              "      <th>SEX_F</th>\n",
              "      <th>SEX_M</th>\n",
              "      <th>Embarked_C</th>\n",
              "      <th>Embarked_Q</th>\n",
              "      <th>Embarked_S</th>\n",
              "      <th>Embarked_NAO_INFOR</th>\n",
              "    </tr>\n",
              "  </thead>\n",
              "  <tbody>\n",
              "    <tr>\n",
              "      <th>0</th>\n",
              "      <td>22.0</td>\n",
              "      <td>1</td>\n",
              "      <td>0</td>\n",
              "      <td>523</td>\n",
              "      <td>7.2500</td>\n",
              "      <td>0</td>\n",
              "      <td>0.0</td>\n",
              "      <td>0.0</td>\n",
              "      <td>1.0</td>\n",
              "      <td>0.0</td>\n",
              "      <td>1.0</td>\n",
              "      <td>0.0</td>\n",
              "      <td>0.0</td>\n",
              "      <td>1.0</td>\n",
              "      <td>0.0</td>\n",
              "    </tr>\n",
              "    <tr>\n",
              "      <th>1</th>\n",
              "      <td>38.0</td>\n",
              "      <td>1</td>\n",
              "      <td>0</td>\n",
              "      <td>596</td>\n",
              "      <td>71.2833</td>\n",
              "      <td>82</td>\n",
              "      <td>1.0</td>\n",
              "      <td>0.0</td>\n",
              "      <td>0.0</td>\n",
              "      <td>1.0</td>\n",
              "      <td>0.0</td>\n",
              "      <td>1.0</td>\n",
              "      <td>0.0</td>\n",
              "      <td>0.0</td>\n",
              "      <td>0.0</td>\n",
              "    </tr>\n",
              "    <tr>\n",
              "      <th>2</th>\n",
              "      <td>26.0</td>\n",
              "      <td>0</td>\n",
              "      <td>0</td>\n",
              "      <td>669</td>\n",
              "      <td>7.9250</td>\n",
              "      <td>0</td>\n",
              "      <td>0.0</td>\n",
              "      <td>0.0</td>\n",
              "      <td>1.0</td>\n",
              "      <td>1.0</td>\n",
              "      <td>0.0</td>\n",
              "      <td>0.0</td>\n",
              "      <td>0.0</td>\n",
              "      <td>1.0</td>\n",
              "      <td>0.0</td>\n",
              "    </tr>\n",
              "    <tr>\n",
              "      <th>3</th>\n",
              "      <td>35.0</td>\n",
              "      <td>1</td>\n",
              "      <td>0</td>\n",
              "      <td>49</td>\n",
              "      <td>53.1000</td>\n",
              "      <td>56</td>\n",
              "      <td>1.0</td>\n",
              "      <td>0.0</td>\n",
              "      <td>0.0</td>\n",
              "      <td>1.0</td>\n",
              "      <td>0.0</td>\n",
              "      <td>0.0</td>\n",
              "      <td>0.0</td>\n",
              "      <td>1.0</td>\n",
              "      <td>0.0</td>\n",
              "    </tr>\n",
              "    <tr>\n",
              "      <th>4</th>\n",
              "      <td>35.0</td>\n",
              "      <td>0</td>\n",
              "      <td>0</td>\n",
              "      <td>472</td>\n",
              "      <td>8.0500</td>\n",
              "      <td>0</td>\n",
              "      <td>0.0</td>\n",
              "      <td>0.0</td>\n",
              "      <td>1.0</td>\n",
              "      <td>0.0</td>\n",
              "      <td>1.0</td>\n",
              "      <td>0.0</td>\n",
              "      <td>0.0</td>\n",
              "      <td>1.0</td>\n",
              "      <td>0.0</td>\n",
              "    </tr>\n",
              "  </tbody>\n",
              "</table>\n",
              "</div>"
            ],
            "text/plain": [
              "    Age  SibSp  Parch  ...  Embarked_Q  Embarked_S  Embarked_NAO_INFOR\n",
              "0  22.0      1      0  ...         0.0         1.0                 0.0\n",
              "1  38.0      1      0  ...         0.0         0.0                 0.0\n",
              "2  26.0      0      0  ...         0.0         1.0                 0.0\n",
              "3  35.0      1      0  ...         0.0         1.0                 0.0\n",
              "4  35.0      0      0  ...         0.0         1.0                 0.0\n",
              "\n",
              "[5 rows x 15 columns]"
            ]
          },
          "metadata": {},
          "execution_count": 361
        }
      ]
    },
    {
      "cell_type": "code",
      "metadata": {
        "colab": {
          "base_uri": "https://localhost:8080/"
        },
        "id": "i1HjHkJNFoAU",
        "outputId": "7814724f-1656-44b9-c443-fb2d66e8afa4"
      },
      "source": [
        "df_train.info()"
      ],
      "execution_count": 362,
      "outputs": [
        {
          "output_type": "stream",
          "name": "stdout",
          "text": [
            "<class 'pandas.core.frame.DataFrame'>\n",
            "RangeIndex: 891 entries, 0 to 890\n",
            "Data columns (total 15 columns):\n",
            " #   Column              Non-Null Count  Dtype  \n",
            "---  ------              --------------  -----  \n",
            " 0   Age                 891 non-null    float64\n",
            " 1   SibSp               891 non-null    int64  \n",
            " 2   Parch               891 non-null    int64  \n",
            " 3   Ticket              891 non-null    int64  \n",
            " 4   Fare                891 non-null    float64\n",
            " 5   Cabin               891 non-null    int64  \n",
            " 6   Class_1             891 non-null    float64\n",
            " 7   Class_2             891 non-null    float64\n",
            " 8   Class_3             891 non-null    float64\n",
            " 9   SEX_F               891 non-null    float64\n",
            " 10  SEX_M               891 non-null    float64\n",
            " 11  Embarked_C          891 non-null    float64\n",
            " 12  Embarked_Q          891 non-null    float64\n",
            " 13  Embarked_S          891 non-null    float64\n",
            " 14  Embarked_NAO_INFOR  891 non-null    float64\n",
            "dtypes: float64(11), int64(4)\n",
            "memory usage: 104.5 KB\n"
          ]
        }
      ]
    },
    {
      "cell_type": "markdown",
      "metadata": {
        "id": "xIux_7OwJ1w_"
      },
      "source": [
        "#####Normalização dos Dados"
      ]
    },
    {
      "cell_type": "code",
      "metadata": {
        "colab": {
          "base_uri": "https://localhost:8080/"
        },
        "id": "TyFxXEItFog4",
        "outputId": "7a760c81-cfdc-41fb-8877-c4abdd4eed3e"
      },
      "source": [
        "# Normalização dos dados utilizando-se a classe MinMax do sklearn.\n",
        "\n",
        "# obtendo os valores do dataset\n",
        "X = df_train.values\n",
        "\n",
        "# normaliza os dados\n",
        "scaler = MinMaxScaler() \n",
        "normalizedX = scaler.fit_transform(X)\n",
        "\n",
        "print('DADOS NORMALIZADOS\\n')\n",
        "np.set_printoptions(precision=3)\n",
        "print(normalizedX)"
      ],
      "execution_count": 363,
      "outputs": [
        {
          "output_type": "stream",
          "name": "stdout",
          "text": [
            "DADOS NORMALIZADOS\n",
            "\n",
            "[[0.271 0.125 0.    ... 0.    1.    0.   ]\n",
            " [0.472 0.125 0.    ... 0.    0.    0.   ]\n",
            " [0.321 0.    0.    ... 0.    1.    0.   ]\n",
            " ...\n",
            " [0.347 0.125 0.333 ... 0.    1.    0.   ]\n",
            " [0.321 0.    0.    ... 0.    0.    0.   ]\n",
            " [0.397 0.    0.    ... 1.    0.    0.   ]]\n"
          ]
        }
      ]
    },
    {
      "cell_type": "markdown",
      "metadata": {
        "id": "QMHz7azYLvL2"
      },
      "source": [
        "###Modelagem dos Dados"
      ]
    },
    {
      "cell_type": "markdown",
      "metadata": {
        "id": "-k8P9AoTTsDu"
      },
      "source": [
        "#####Divisão em Treino e Teste"
      ]
    },
    {
      "cell_type": "code",
      "metadata": {
        "id": "Wpp0ucN1Ly-q"
      },
      "source": [
        "# Trabalhar com uma semente fixa para geração de números aleatórios.\n",
        "seed = 12\n",
        "\n",
        "# Divisão dos dados em treino e teste.\n",
        "X_train, X_test, y_train, y_test = train_test_split(normalizedX, y, test_size = 0.3, random_state = seed)"
      ],
      "execution_count": 364,
      "outputs": []
    },
    {
      "cell_type": "code",
      "metadata": {
        "colab": {
          "base_uri": "https://localhost:8080/"
        },
        "id": "z_Pg-MhWLvDa",
        "outputId": "4955245d-6279-452b-8ee1-20db339619c1"
      },
      "source": [
        "X_train"
      ],
      "execution_count": 365,
      "outputs": [
        {
          "output_type": "execute_result",
          "data": {
            "text/plain": [
              "array([[0.347, 0.   , 0.   , ..., 0.   , 0.   , 0.   ],\n",
              "       [0.259, 0.   , 0.   , ..., 0.   , 1.   , 0.   ],\n",
              "       [0.347, 0.   , 0.   , ..., 0.   , 1.   , 0.   ],\n",
              "       ...,\n",
              "       [0.447, 0.125, 0.333, ..., 0.   , 1.   , 0.   ],\n",
              "       [0.347, 0.   , 0.   , ..., 0.   , 1.   , 0.   ],\n",
              "       [0.428, 0.   , 0.   , ..., 0.   , 0.   , 0.   ]])"
            ]
          },
          "metadata": {},
          "execution_count": 365
        }
      ]
    },
    {
      "cell_type": "code",
      "metadata": {
        "colab": {
          "base_uri": "https://localhost:8080/",
          "height": 312
        },
        "id": "eMaGMfsFLwe8",
        "outputId": "554dc310-3553-4368-cd61-e914eb2b8813"
      },
      "source": [
        "print(np.histogram(y_train, bins=2))\n",
        "y_train.plot.hist(grid=True, bins=2, rwidth=0.9, color='#607c8e')\n",
        "plt.title('Dados Label Base de Treino')\n",
        "plt.xlabel('Quantidade')\n",
        "plt.ylabel('Label')\n",
        "plt.grid(axis='y', alpha=0.75)"
      ],
      "execution_count": 366,
      "outputs": [
        {
          "output_type": "stream",
          "name": "stdout",
          "text": [
            "(array([388, 235]), array([0. , 0.5, 1. ]))\n"
          ]
        },
        {
          "output_type": "display_data",
          "data": {
            "image/png": "[encoded data removed]",
            "text/plain": [
              "<Figure size 432x288 with 1 Axes>"
            ]
          },
          "metadata": {
            "needs_background": "light"
          }
        }
      ]
    },
    {
      "cell_type": "code",
      "metadata": {
        "colab": {
          "base_uri": "https://localhost:8080/"
        },
        "id": "pp4iY6CaL0uF",
        "outputId": "b35414c3-2baa-48a8-a856-745815d75fb9"
      },
      "source": [
        "X_test"
      ],
      "execution_count": 367,
      "outputs": [
        {
          "output_type": "execute_result",
          "data": {
            "text/plain": [
              "array([[0.812, 0.   , 0.   , ..., 0.   , 1.   , 0.   ],\n",
              "       [0.347, 0.   , 0.   , ..., 0.   , 1.   , 0.   ],\n",
              "       [0.259, 0.   , 0.   , ..., 0.   , 1.   , 0.   ],\n",
              "       ...,\n",
              "       [0.698, 0.   , 0.   , ..., 0.   , 0.   , 0.   ],\n",
              "       [0.409, 0.   , 0.   , ..., 0.   , 1.   , 0.   ],\n",
              "       [0.347, 0.125, 0.   , ..., 0.   , 1.   , 0.   ]])"
            ]
          },
          "metadata": {},
          "execution_count": 367
        }
      ]
    },
    {
      "cell_type": "code",
      "metadata": {
        "colab": {
          "base_uri": "https://localhost:8080/"
        },
        "id": "QOXr38dKL27t",
        "outputId": "2820fd40-85cf-4a7b-8317-f5a2952f7e1b"
      },
      "source": [
        "y_test"
      ],
      "execution_count": 368,
      "outputs": [
        {
          "output_type": "execute_result",
          "data": {
            "text/plain": [
              "456    0\n",
              "351    0\n",
              "173    0\n",
              "671    0\n",
              "836    0\n",
              "      ..\n",
              "860    0\n",
              "69     0\n",
              "647    1\n",
              "872    0\n",
              "669    1\n",
              "Name: Survived, Length: 268, dtype: int64"
            ]
          },
          "metadata": {},
          "execution_count": 368
        }
      ]
    },
    {
      "cell_type": "markdown",
      "metadata": {
        "id": "nRTpb0pATyVY"
      },
      "source": [
        "####Aplicação dos Modelos"
      ]
    },
    {
      "cell_type": "markdown",
      "metadata": {
        "id": "y77U2iKARTie"
      },
      "source": [
        "#####Árvore de Decisão"
      ]
    },
    {
      "cell_type": "code",
      "metadata": {
        "colab": {
          "base_uri": "https://localhost:8080/"
        },
        "id": "lTkqtFYoWKwg",
        "outputId": "3f5ac7ad-80bb-4d85-f418-1affb629e321"
      },
      "source": [
        "# Implementação do Modelo de Árvore de Decisão\n",
        "\n",
        "# Semente de números aleatórios\n",
        "seed = 7\n",
        "num_trees = 5000\n",
        "max_features = 7\n",
        "\n",
        "# Número de folds através do metodo k-fold\n",
        "kfold = model_selection.StratifiedKFold(n_splits=10, random_state=seed)\n",
        "\n",
        "# Criando a árvore de decisão\n",
        "clf = tree.DecisionTreeClassifier(criterion='entropy', random_state=seed)\n",
        "\n",
        "# Treinamento da árvore de decisão em dez folds\n",
        "results_ad = model_selection.cross_val_score(clf, X_train, y_train, cv=kfold)\n",
        "clf = clf.fit(X_train, y_train)\n",
        "\n",
        "print('Decision Tree Folds', results_ad, '\\n\\nMédia do Treinamento: ',results_ad.mean())\n",
        "print('\\nAcurácia do Treinamento: ', clf.score(X_train, y_train))\n",
        "print('\\nAcurácia do Teste: ', clf.score(X_test, y_test))"
      ],
      "execution_count": 369,
      "outputs": [
        {
          "output_type": "stream",
          "name": "stdout",
          "text": [
            "Decision Tree Folds [0.778 0.762 0.841 0.839 0.726 0.806 0.758 0.742 0.823 0.79 ] \n",
            "\n",
            "Média do Treinamento:  0.7864823348694315\n",
            "\n",
            "Acurácia do Treinamento:  0.9967897271268058\n",
            "\n",
            "Acurácia do Teste:  0.7649253731343284\n"
          ]
        },
        {
          "output_type": "stream",
          "name": "stderr",
          "text": [
            "/usr/local/lib/python3.7/dist-packages/sklearn/model_selection/_split.py:296: FutureWarning: Setting a random_state has no effect since shuffle is False. This will raise an error in 0.24. You should leave random_state to its default (None), or set shuffle=True.\n",
            "  FutureWarning\n"
          ]
        }
      ]
    },
    {
      "cell_type": "markdown",
      "metadata": {
        "id": "vuTACMSWRWeD"
      },
      "source": [
        "#####Random Forest"
      ]
    },
    {
      "cell_type": "code",
      "metadata": {
        "colab": {
          "base_uri": "https://localhost:8080/"
        },
        "id": "vVN-0mXBSmva",
        "outputId": "b44a4922-05ae-405e-d530-f85f8c3910b3"
      },
      "source": [
        "# Implementação do Modelo de Classificação Random Forest\n",
        "\n",
        "# Criando o classificador Random Forest\n",
        "model_rf = RandomForestClassifier(n_estimators=num_trees, max_features=max_features, random_state=seed)\n",
        "\n",
        "# Treinamento do Random Forest em dez folds\n",
        "results_rf = model_selection.cross_val_score(model_rf, X_train, y_train, cv=kfold)\n",
        "model_rf = model_rf.fit(X_train, y_train)\n",
        "\n",
        "print(\"Random Forest Folds:\", results_rf, \"\\n\\nMédia do Treinamento: \" ,results_rf.mean())\n",
        "print(\"\\nAcurácia do Treinamento: \", model_rf.score(X_train, y_train))\n",
        "print(\"\\nAcurácia do Teste: \", model_rf.score(X_test, y_test))"
      ],
      "execution_count": 370,
      "outputs": [
        {
          "output_type": "stream",
          "name": "stdout",
          "text": [
            "Random Forest Folds: [0.81  0.825 0.889 0.935 0.823 0.871 0.806 0.839 0.887 0.839] \n",
            "\n",
            "Média do Treinamento:  0.8523809523809524\n",
            "\n",
            "Acurácia do Treinamento:  0.9967897271268058\n",
            "\n",
            "Acurácia do Teste:  0.8022388059701493\n"
          ]
        }
      ]
    },
    {
      "cell_type": "markdown",
      "metadata": {
        "id": "qVkNvVQWdz2I"
      },
      "source": [
        "#####Análise Gráfica Comparativa"
      ]
    },
    {
      "cell_type": "code",
      "metadata": {
        "colab": {
          "base_uri": "https://localhost:8080/",
          "height": 514
        },
        "id": "7bt1_8vjWLNm",
        "outputId": "a274830a-ab7c-4cc9-e353-8626f9b1ddfd"
      },
      "source": [
        "# Plotagem dos Boxplots dos Resultados\n",
        "\n",
        "# Árvore de Decisão\n",
        "plt.boxplot(results_ad, patch_artist=True) \n",
        "plt.show()\n",
        "\n",
        "# Random Forest\n",
        "plt.boxplot(results_rf, patch_artist=True)\n",
        "plt.show()"
      ],
      "execution_count": 371,
      "outputs": [
        {
          "output_type": "display_data",
          "data": {
            "image/png": "[encoded data removed]",
            "text/plain": [
              "<Figure size 432x288 with 1 Axes>"
            ]
          },
          "metadata": {
            "needs_background": "light"
          }
        },
        {
          "output_type": "display_data",
          "data": {
            "image/png": "[encoded data removed]",
            "text/plain": [
              "<Figure size 432x288 with 1 Axes>"
            ]
          },
          "metadata": {
            "needs_background": "light"
          }
        }
      ]
    }
  ]
}